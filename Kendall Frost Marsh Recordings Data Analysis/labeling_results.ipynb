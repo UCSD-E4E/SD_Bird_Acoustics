{
 "cells": [
  {
   "cell_type": "markdown",
   "metadata": {},
   "source": [
    "# Labeling Party Results"
   ]
  },
  {
   "cell_type": "markdown",
   "metadata": {},
   "source": [
    "- We verified some of the detected species with manual labeling (performed by non-experts)"
   ]
  },
  {
   "cell_type": "code",
   "execution_count": 1,
   "metadata": {},
   "outputs": [
    {
     "name": "stdout",
     "output_type": "stream",
     "text": [
      "Total species folders: 109\n",
      "Folders with JSON files: 56\n",
      "Folders without JSON files: 53\n",
      "\n",
      "Species folders WITH JSONs:\n",
      "['Great_Horned_Owl', 'Rock_Pigeon', 'Sanderling', \"Anna's_Hummingbird\", 'Red-breasted_Nuthatch', 'Barn_Owl', 'Savannah_Sparrow', 'Ring-billed_Gull', 'Red_Knot', 'Black-bellied_Plover', 'Royal_Tern', 'Whimbrel', 'Green-winged_Teal', 'American_Wigeon', 'American_Goldfinch', 'American_Kestrel', 'American_Crow', 'American_Pipit', 'Greater_Yellowlegs', \"Say's_Phoebe\", 'Black_Skimmer', 'White-breasted_Nuthatch', 'Willet', 'Ash-throated_Flycatcher', 'Ring-necked_Duck', 'Short-billed_Dowitcher', 'American_Avocet', 'Pygmy_Nuthatch', 'Red-shouldered_Hawk', 'Rock_Wren', 'California_Gull', 'Black-necked_Stilt', 'Redhead', \"Allen's_Hummingbird\", 'Loggerhead_Shrike', 'Sora', 'Red-throated_Loon', 'Semipalmated_Plover', 'Surfbird', \"Wilson's_Snipe\", 'American_Coot', 'Song_Sparrow', 'Wrentit', 'Verdin', 'Great_Egret', 'California_Quail', \"Bell's_Sparrow\", 'Hooded_Oriole', 'Western_Meadowlark', 'Belted_Kingfisher', 'Purple_Finch', 'Black_Phoebe', 'Barn_Swallow', 'Acorn_Woodpecker', 'American_Robin', 'Blue-winged_Teal']\n",
      "\n",
      "Species folders WITHOUT JSONs:\n",
      "['Long-billed_Dowitcher', 'House_Finch', 'Cedar_Waxwing', 'Brant', 'Least_Sandpiper', 'Mallard', 'Western_Gull', 'Herring_Gull', 'Marbled_Godwit', 'Western_Bluebird', 'Dunlin', 'Common_Loon', 'Caspian_Tern', 'Horned_Lark', 'Canada_Goose', 'Common_Raven', 'Glaucous-winged_Gull', 'Peregrine_Falcon', 'Northern_Pintail', 'Bufflehead', \"Cooper's_Hawk\", 'Northern_Harrier', 'Gadwall', 'Lesser_Yellowlegs', 'Black-crowned_Night-Heron', 'Killdeer', 'Pine_Siskin', 'Long-billed_Curlew', 'Prairie_Falcon', 'Northern_Rough-winged_Swallow', 'Elegant_Tern', \"Brewer's_Sparrow\", \"Gambel's_Quail\", \"Lincoln's_Sparrow\", 'Tree_Swallow', 'Lesser_Goldfinch', \"Forster's_Tern\", \"Cassin's_Kingbird\", 'Canyon_Wren', 'Hairy_Woodpecker', 'Cactus_Wren', 'Pied-billed_Grebe', 'Dark-eyed_Junco', 'Bushtit', 'Great_Blue_Heron', \"Costa's_Hummingbird\", 'Brown_Booby', 'Mourning_Dove', 'Western_Grebe', \"Bonaparte's_Gull\", 'Osprey', 'Eurasian_Collared-Dove', 'House_Sparrow']\n"
     ]
    }
   ],
   "source": [
    "from pathlib import Path\n",
    "\n",
    "base_dir = Path(\"/Volumes/passive-acoustic-biodiversity/kendall-frost-march-2025/selected_species_audio_clips\")\n",
    "\n",
    "with_json = []\n",
    "without_json = []\n",
    "\n",
    "# Go through each species subfolder\n",
    "for species_dir in base_dir.iterdir():\n",
    "    if species_dir.is_dir():\n",
    "        json_files = list(species_dir.glob(\"*.json\"))\n",
    "        if json_files:\n",
    "            with_json.append(species_dir.name)\n",
    "        else:\n",
    "            without_json.append(species_dir.name)\n",
    "\n",
    "print(f\"Total species folders: {len(with_json) + len(without_json)}\")\n",
    "print(f\"Folders with JSON files: {len(with_json)}\")\n",
    "print(f\"Folders without JSON files: {len(without_json)}\")\n",
    "\n",
    "print(\"\\nSpecies folders WITH JSONs:\")\n",
    "print(with_json)\n",
    "print(\"\\nSpecies folders WITHOUT JSONs:\")\n",
    "print(without_json)\n"
   ]
  },
  {
   "cell_type": "code",
   "execution_count": 4,
   "metadata": {},
   "outputs": [
    {
     "name": "stdout",
     "output_type": "stream",
     "text": [
      "Total species detected: 109\n",
      "Number of Species labeled: 56\n",
      "Number of Species with at least one yes-verified recording: 37\n",
      "\n",
      "All isFlagged = False (species found): 16\n",
      "All isFlagged = True (species NOT found): 19\n",
      "Mixed isFlagged values: 21\n",
      "No JSON files found: 53\n",
      "\n",
      "Species with all False:\n",
      "['American_Goldfinch', 'American_Crow', 'Black_Skimmer', 'Ash-throated_Flycatcher', 'American_Avocet', 'Black-necked_Stilt', \"Allen's_Hummingbird\", 'Loggerhead_Shrike', 'Wrentit', 'Great_Egret', \"Bell's_Sparrow\", 'Hooded_Oriole', 'Western_Meadowlark', 'Belted_Kingfisher', 'Barn_Swallow', 'Acorn_Woodpecker']\n",
      "\n",
      "Species with all True:\n",
      "['Rock_Pigeon', 'Sanderling', 'Red-breasted_Nuthatch', 'Red_Knot', 'American_Kestrel', 'Pygmy_Nuthatch', 'Red-shouldered_Hawk', 'Rock_Wren', 'Redhead', 'Sora', 'Red-throated_Loon', 'Surfbird', \"Wilson's_Snipe\", 'American_Coot', 'Song_Sparrow', 'Verdin', 'Purple_Finch', 'Black_Phoebe', 'Blue-winged_Teal']\n",
      "\n",
      "Species with Mixed:\n",
      "['Great_Horned_Owl', \"Anna's_Hummingbird\", 'Barn_Owl', 'Savannah_Sparrow', 'Ring-billed_Gull', 'Black-bellied_Plover', 'Royal_Tern', 'Whimbrel', 'Green-winged_Teal', 'American_Wigeon', 'American_Pipit', 'Greater_Yellowlegs', \"Say's_Phoebe\", 'White-breasted_Nuthatch', 'Willet', 'Ring-necked_Duck', 'Short-billed_Dowitcher', 'California_Gull', 'Semipalmated_Plover', 'California_Quail', 'American_Robin']\n",
      "\n",
      "Species with no JSON:\n",
      "['Long-billed_Dowitcher', 'House_Finch', 'Cedar_Waxwing', 'Brant', 'Least_Sandpiper', 'Mallard', 'Western_Gull', 'Herring_Gull', 'Marbled_Godwit', 'Western_Bluebird', 'Dunlin', 'Common_Loon', 'Caspian_Tern', 'Horned_Lark', 'Canada_Goose', 'Common_Raven', 'Glaucous-winged_Gull', 'Peregrine_Falcon', 'Northern_Pintail', 'Bufflehead', \"Cooper's_Hawk\", 'Northern_Harrier', 'Gadwall', 'Lesser_Yellowlegs', 'Black-crowned_Night-Heron', 'Killdeer', 'Pine_Siskin', 'Long-billed_Curlew', 'Prairie_Falcon', 'Northern_Rough-winged_Swallow', 'Elegant_Tern', \"Brewer's_Sparrow\", \"Gambel's_Quail\", \"Lincoln's_Sparrow\", 'Tree_Swallow', 'Lesser_Goldfinch', \"Forster's_Tern\", \"Cassin's_Kingbird\", 'Canyon_Wren', 'Hairy_Woodpecker', 'Cactus_Wren', 'Pied-billed_Grebe', 'Dark-eyed_Junco', 'Bushtit', 'Great_Blue_Heron', \"Costa's_Hummingbird\", 'Brown_Booby', 'Mourning_Dove', 'Western_Grebe', \"Bonaparte's_Gull\", 'Osprey', 'Eurasian_Collared-Dove', 'House_Sparrow']\n"
     ]
    }
   ],
   "source": [
    "import json\n",
    "from pathlib import Path\n",
    "\n",
    "all_false = []\n",
    "all_true = []\n",
    "mixed = []\n",
    "no_json = []\n",
    "\n",
    "for species_dir in base_dir.iterdir():\n",
    "    if species_dir.is_dir():\n",
    "        json_files = list(species_dir.glob(\"*.json\"))\n",
    "        \n",
    "        if not json_files:\n",
    "            no_json.append(species_dir.name)\n",
    "            continue\n",
    "\n",
    "        # Combine all `isFlagged` values from all JSONs in the folder\n",
    "        all_flags = []\n",
    "\n",
    "        for json_file in json_files:\n",
    "            try:\n",
    "                with open(json_file, \"r\") as f:\n",
    "                    data = json.load(f)\n",
    "                    for entry in data.get(\"table\", []):\n",
    "                        all_flags.append(entry.get(\"isFlagged\"))\n",
    "            except Exception as e:\n",
    "                print(f\"⚠️ Error reading {json_file}: {e}\")\n",
    "                continue\n",
    "\n",
    "        if all(flag is False for flag in all_flags):\n",
    "            all_false.append(species_dir.name)\n",
    "        elif all(flag is True for flag in all_flags):\n",
    "            all_true.append(species_dir.name)\n",
    "        else:\n",
    "            mixed.append(species_dir.name)\n",
    "\n",
    "print(f\"Total species detected: {len(all_false) + len(all_true) + len(mixed) + len(no_json)}\")\n",
    "print(f\"Number of Species labeled: {len(all_false) + len(all_true) + len(mixed)}\")\n",
    "print(f\"Number of Species with at least one yes-verified recording: {len(all_false) + len(mixed)}\")\n",
    "print(f\"\\nAll isFlagged = False (species found): {len(all_false)}\")\n",
    "print(f\"All isFlagged = True (species NOT found): {len(all_true)}\")\n",
    "print(f\"Mixed isFlagged values: {len(mixed)}\")\n",
    "print(f\"No JSON files found: {len(no_json)}\")\n",
    "\n",
    "\n",
    "print(\"\\nSpecies with all False:\")\n",
    "print(all_false)\n",
    "\n",
    "print(\"\\nSpecies with all True:\")\n",
    "print(all_true)\n",
    "\n",
    "print(\"\\nSpecies with Mixed:\")\n",
    "print(mixed)\n",
    "\n",
    "print(\"\\nSpecies with no JSON:\")\n",
    "print(no_json)\n"
   ]
  },
  {
   "cell_type": "code",
   "execution_count": 5,
   "metadata": {},
   "outputs": [
    {
     "data": {
      "image/png": "[encoded data removed]",
      "text/plain": [
       "<Figure size 600x400 with 1 Axes>"
      ]
     },
     "metadata": {},
     "output_type": "display_data"
    }
   ],
   "source": [
    "import matplotlib.pyplot as plt\n",
    "\n",
    "stages = ['Detected\\n(109 species)', \n",
    "          'Checked\\n(56 species)', \n",
    "          'Verified\\n(37 species)']\n",
    "values = [109, 56, 37]\n",
    "\n",
    "percentages = [v / values[0] * 100 for v in values]\n",
    "max_val = max(values)\n",
    "colors = ['#4C72B0', '#55A868', '#C44E52']\n",
    "fig, ax = plt.subplots(figsize=(6, 4))\n",
    "\n",
    "for i, (val, pct) in enumerate(zip(values, percentages)):\n",
    "    left = (max_val - val) / 2\n",
    "    ax.barh(\n",
    "        y=i,\n",
    "        width=val,\n",
    "        height=0.6,\n",
    "        left=left,\n",
    "        color=colors[i],\n",
    "        edgecolor='black'\n",
    "    )\n",
    "\n",
    "    ax.text(\n",
    "        x=max_val / 2,\n",
    "        y=i,\n",
    "        s=f\"{val} ({pct:.1f}%)\",\n",
    "        ha='center',\n",
    "        va='center',\n",
    "        color='white',\n",
    "        fontsize=12\n",
    "    )\n",
    "\n",
    "ax.set_yticks(range(len(stages)))\n",
    "ax.set_yticklabels(stages, fontsize=12)\n",
    "ax.invert_yaxis()               \n",
    "ax.set_xticks([])              \n",
    "ax.set_xlim(0, max_val)         \n",
    "ax.set_frame_on(False)         \n",
    "ax.set_title(\"Verification Funnel\", fontsize=14, pad=15)\n",
    "\n",
    "plt.tight_layout()\n",
    "plt.show()\n"
   ]
  },
  {
   "cell_type": "code",
   "execution_count": null,
   "metadata": {},
   "outputs": [],
   "source": []
  }
 ],
 "metadata": {
  "kernelspec": {
   "display_name": "Python 3.12.7 ('CS250A')",
   "language": "python",
   "name": "python3"
  },
  "language_info": {
   "codemirror_mode": {
    "name": "ipython",
    "version": 3
   },
   "file_extension": ".py",
   "mimetype": "text/x-python",
   "name": "python",
   "nbconvert_exporter": "python",
   "pygments_lexer": "ipython3",
   "version": "3.12.7"
  },
  "orig_nbformat": 4,
  "vscode": {
   "interpreter": {
    "hash": "6f4af34e5c43d7a789a28244e82368092cdbe2316f0e0d79b0cd377dfd46fbac"
   }
  }
 },
 "nbformat": 4,
 "nbformat_minor": 2
}
